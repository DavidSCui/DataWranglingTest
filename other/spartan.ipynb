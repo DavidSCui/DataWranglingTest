{
 "cells": [
  {
   "cell_type": "markdown",
   "metadata": {},
   "source": [
    "# 3c. Spartan (UoM HPC)\n",
    "\n",
    "The University of Melbourne's High Performance Computing (HPC) system is called **Spartan**, and in normal people terms, is our collection of insanely powerful computers that act as a massive computing resource that researchers can tap into to do tasks that require lots of computing power. \n",
    "\n",
    "This - https://dashboard.hpc.unimelb.edu.au/ - is the official documentation and is what you need to be reading before you use Spartan. However, for a quick basic guide, keep reading.\n",
    "\n",
    "``` {note}\n",
    "Fun Fact: The entire Spartan HPC system is equivalent in computing power to somewhere between 2.4 to 3.2 million Nintendo Wii consoles.\n",
    "```\n",
    "\n",
    "``` {note}\n",
    "You will need an account with Spartan (Karaage), which your supervisor will probably guide you through, but the instructions are also here: https://dashboard.hpc.unimelb.edu.au/started/\n",
    "```\n",
    "\n",
    "There are a few ways of engaging with Spartan, the most accessible being directly through VSCode.\n",
    "\n",
    "## Connecting to Spartan via VSCode\n",
    "\n",
    "1. You will need to install an extension in VSCode called **Remote - SSH**. Like the other extensions, go to your extensions tab in VSCode and type the name of the extension in, and install it. _You may need to restart VSCode for it to install_.\n",
    "\n",
    "2. Similar to creating a virtual environment, click the top search bar and select the option \"Show and Run: Commands\"\n",
    "\n",
    "3. Type in \"Remote-SSH: Connect to Host\" and select that command.\n",
    "\n",
    "4. When prompted, type in \"spartan.hpc.unimelb.edu.au\" and press enter\n",
    "\n",
    "5. When prompted, enter your unimelb email, then your password for your unimelb account.\n",
    "\n",
    "6. Then, use ``cd`` + the directory path of your project to access the folders and files of your project.\n",
    "\n",
    "    It will look something like: ``cd /data/gpfs/projects/[YOUR-PROJECT]/``\n",
    "\n",
    "``` {note}\n",
    "Your project supervisor / lab supervisor will tell you the directory location of your project\n",
    "```\n",
    "\n",
    "## Important: Usage\n",
    "\n",
    "``` {admonition} DO NOT EXECUTE TASKS DIRECTLY INTO THE TERMINAL \n",
    ":class: warning\n",
    "VERY VERY important is that you **DO NOT execute your code directly into the terminal (the login node)!!!**. The only use of the terminal is to do basic things like look at files, move files and submit jobs to the queue.\n",
    "\n",
    "The Spartan admins will shutdown your code and if you keep doing it, they might suspend you, since it is kind of like using the ambulance parking space at a hospital as your daily parking spot. \n",
    "```\n",
    "\n",
    "Once you are in, you can navigate using the shell language that you learnt earlier; ``ls`` to see where you are, and ``cd`` to move somehwere. \n",
    "\n",
    "``` {hint}\n",
    "Using Spartan is like writing a Christmas Wishlist (your shell script / 'slurm' file) and mailing it (submitting the job in the queue) to the North Pole (Spartan), and when it is your turn, Santa (Slurm) will grant you your wishes. However, if you're on the naughty list (your code is incorrect or you're typing the tasks directly into the terminal), you will be receiving coal instead ( :( )).\n",
    "```\n",
    "\n",
    "### Creating a Job\n",
    "\n",
    "To use Spartan, you create shell scripts that you can submit to the HPC to do tasks. The actual code will likely be pretty advanced and niche depending on your project. \n",
    "\n",
    "Regardless, just so you know what is vaguely going on, all of these scripts begin with a long chunk of code that is meant for Spartan to read (see below for example). This is then followed by code, written in Bash, which is what Spartan will use as instructions (typically, you will point to other programs or files with code written in other languages to do your analytical tasks)."
   ]
  },
  {
   "cell_type": "code",
   "execution_count": null,
   "metadata": {
    "vscode": {
     "languageId": "plaintext"
    }
   },
   "outputs": [],
   "source": [
    "#!/bin/bash\n",
    "\n",
    "#SBATCH --account=****\n",
    "#SBATCH --ntasks=1\n",
    "#SBATCH --cpus-per-task=32\n",
    "#SBATCH --nodes=1\n",
    "#SBATCH --job-name='fmriprep_test'\n",
    "#SBATCH --time=0-20:00:00\n",
    "#SBATCH --partition=sapphire\n",
    "#SBATCH -o /data/gpfs/projects/****/****/slurm_output/fmriprep_DC/slurm.%j.%N.out\n",
    "#SBATCH -e /data/gpfs/projects/****/****/slurm_output/fmriprep_DC/slurm.%j.%N.err"
   ]
  },
  {
   "cell_type": "markdown",
   "metadata": {},
   "source": [
    "_Note: Lab-specific identifying codes have been replaced with astericks_\n",
    "\n",
    "``` {admonition} What is going on??\n",
    "- **`#SBATCH --account=****`**  \n",
    "  **Purpose**: Specifies which project or account will be charged for the job’s resource usage.\n",
    "\n",
    "- **`#SBATCH --ntasks=1`**  \n",
    "  **Purpose**: Defines the number of tasks to be run for the job. \n",
    "\n",
    "- **`#SBATCH --cpus-per-task=32`**  \n",
    "  **Purpose**: Requests a specific number of CPU cores to be allocated to each task.\n",
    "\n",
    "- **`#SBATCH --nodes=1`**  \n",
    "  **Purpose**: Allocates a specific number of compute nodes for the job.\n",
    "\n",
    "- **`#SBATCH --job-name=''`**  \n",
    "  **Purpose**: Assigns a descriptive name to the job for identification.\n",
    "\n",
    "- **`#SBATCH --time=0-20:00:00`**  \n",
    "  **Purpose**: Specifies the maximum time limit for the job to run (HRS:MIN:SEC)\n",
    "\n",
    "- **`#SBATCH --partition=sapphire**  \n",
    "  **Purpose**: Directs the job to be run on a specific partition (e.g., `sapphire`) of the HPC cluster.\n",
    "\n",
    "- **`#SBATCH -o**  \n",
    "  **Purpose**: Defines the output file path for capturing the job’s standard output.\n",
    "\n",
    "- **`#SBATCH -e**  \n",
    "  **Purpose**: Defines the error file path for capturing the job’s standard error output.\n",
    "\n",
    "```"
   ]
  },
  {
   "cell_type": "markdown",
   "metadata": {},
   "source": [
    "### Submitting a Job\n",
    "\n",
    "To submit a job, use the command/keyword ``sbatch``, followed by the name of your file. \n",
    "\n",
    "Then, just wait patiently for your job to go through the queue (lots of researchers at unimelb trying to use Spartan). You can check how your job is progressing using ``squeue`` + the job number you get given when you submit a job if you must know!"
   ]
  },
  {
   "cell_type": "markdown",
   "metadata": {},
   "source": [
    "``` {admonition} Advanced: Job Arrays\n",
    ":class: attention\n",
    "\n",
    "You can do really cool stuff like submitting a job arrays (automating tons of tasks) or interactive jobs (gives you a shell that lets you execute commands) that I (the author of this guide) could not explain to you because it looks lowkey complicated :(\n",
    "\n",
    "  \n",
    "see here -> https://dashboard.hpc.unimelb.edu.au/job_submission/#job-arrays\n",
    "\n",
    "```"
   ]
  }
 ],
 "metadata": {
  "language_info": {
   "name": "python"
  }
 },
 "nbformat": 4,
 "nbformat_minor": 2
}
