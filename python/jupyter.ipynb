{
 "cells": [
  {
   "cell_type": "markdown",
   "metadata": {},
   "source": [
    "# 2d. Jupyter Notebook"
   ]
  },
  {
   "cell_type": "markdown",
   "metadata": {},
   "source": [
    "Jupyter Notebook is a powerful tool and extension for visualising data analysis. It is very similar to RStudio's Markdown features, which you encounter throughout undergraduate and honours data analysis subjects. \n",
    "\n",
    "> In fact, this is the tool used to create the documents you have been looking at.\n",
    "\n",
    "1. To install it within VSCode, click the Extentions tab on the left side of the screen. (Same as when you installed the Python extension)."
   ]
  },
  {
   "cell_type": "markdown",
   "metadata": {},
   "source": [
    "2. When prompted, search up \"Jupyter\". Click on the main Extension (Jupyter) and install it. Also install each of the extensions in the extension pack that shows up. All 5 extensions should show up as the first five extensions you see when you search it up.\n",
    "\n",
    "> You may have to restart VSCode to activate the extension.\n",
    "\n",
    "3. Now, create a new file making sure you end the filename with **.ipynb**. For example, we'll call ours \"analysis.ipynb\".\n",
    "\n",
    "> Remember, you can do this by right clicking on a folder back in the \"Explorer\" tab (top-right of the window), then clicking \"New File\"."
   ]
  },
  {
   "cell_type": "markdown",
   "metadata": {},
   "source": [
    "4. When opening your new file, you can create a new code or new markdown block. Press \"+ Code\" and make sure to select \"Python\" in the bottom right of the code block (sometimes it will automatically detect that you are trying to write in Python).\n",
    "\n",
    "> Markdown is a language used to tell the computer how to render plain text, and is the language this entire guide is being written in.\n",
    "\n",
    "5. You can now use this block to write in Python. Your main controls are also in the top left panel of the VSCode view of the file.\n",
    "\n"
   ]
  },
  {
   "cell_type": "markdown",
   "metadata": {},
   "source": [
    "Crucially, you can use Jupyter to visualise DataFrames within VSCode without constantly having to export to CSV to view in Excel. In your main controls OR at the bottom of the screen, you can view the variables that exist in your file (**Jupyter Variables** in the main controls, **Jupyter** at the bottom of the screen). From here, you can double click the variable or click the icon to the left of the variable's name to open a window that visualises the data."
   ]
  }
 ],
 "metadata": {
  "kernelspec": {
   "display_name": ".venv",
   "language": "python",
   "name": "python3"
  },
  "language_info": {
   "name": "python",
   "version": "3.13.0"
  }
 },
 "nbformat": 4,
 "nbformat_minor": 2
}
