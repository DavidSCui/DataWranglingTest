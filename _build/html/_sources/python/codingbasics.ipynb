{
 "cells": [
  {
   "cell_type": "markdown",
   "metadata": {},
   "source": [
    "# 2a. Coding Fundamentals\n",
    "\n",
    "**Let's try to learn the fundamentals of Python fast.**\n",
    "\n",
    "> Python is the most popular programming language to learn, partly due to its relative simplicity and universality of the concepts that are learnt during the process of learning to code in Python. \n",
    "\n",
    "``` {important}\n",
    "You are going to forget everything you learn about coding constantly. What is important is that you remember that these concepts exist, rather than rote-learning how they are done. Professional programmers and comp-sci students use Google and ChatGPT to check how things work all the time. \n",
    "```"
   ]
  },
  {
   "cell_type": "markdown",
   "metadata": {},
   "source": [
    "## Commands\n",
    "\n",
    "To do stuff in Python and R, you will enter in commands that generally take the form: function(arguments)\n",
    "\n",
    "The classic example is to get your terminal to spit out the phrase \"Hello World!\". In Python and R, this is done using the print() command:"
   ]
  },
  {
   "cell_type": "code",
   "execution_count": null,
   "metadata": {},
   "outputs": [
    {
     "name": "stdout",
     "output_type": "stream",
     "text": [
      "Hello World!\n"
     ]
    }
   ],
   "source": [
    "print(\"Hello World!\")"
   ]
  },
  {
   "cell_type": "markdown",
   "metadata": {},
   "source": [
    "## Comments\n",
    "\n",
    "In Python and R code, you can write comments by typing hashtag, #, followed by your comment. This is text that will not run as code, and instead can be read by others looking at your code. It is good practice to comment on your code regularly so you can explain what your code is trying to do. For instance:"
   ]
  },
  {
   "cell_type": "code",
   "execution_count": null,
   "metadata": {},
   "outputs": [],
   "source": [
    "# This function checks if a folder exists to put our data into.\n",
    "# if it doesn't exist, will create the folder.\n",
    "def check_and_create_folder(folder_path): \n",
    "    if not os.path.exists(folder_path): # checks if the folder exists\n",
    "        os.makedirs(folder_path) # creates the folder\n",
    "        print(f\"Folder '{folder_path}' created.\")\n",
    "    else:\n",
    "        print(f\"Folder '{folder_path}' already exists.\")"
   ]
  },
  {
   "cell_type": "markdown",
   "metadata": {},
   "source": [
    "## Variables\n",
    "\n",
    "In higher level programming languages like Python, variables essentially allow you to store information in key \"words\" or \"phrases\". You use an equals sign (=) to assign information to a variable name of your choosing.\n",
    "\n",
    "Variables generally take the form: Variable = Information\n",
    "\n",
    "`````{admonition} Variable Naming Conventions\n",
    ":class: tip\n",
    "Good practice for naming variables is to stick to a consistent naming style. **You cannot use spaces in variable names**, so there are a couple of popular conventions:  \n",
    "* **snake_case**: all letters lowercase, using underscores to seperate words. E.g., variable_name. Associated with Python and R. **We will be following this convention since we are coding in Python and R.**\n",
    "* **MACRO_CASE**: all letters uppcase, using underscores to seperate words. E.G., VARIABLE_NAME. Use with variables that must remain the same (constants).\n",
    "* **camelCase**: first word lowercase, and using uppercase to seperate words. E.g., variableName. Associated with Java and Javascript.\n",
    "* **PascalCase**: first letter uppercase, and using uppercase to seperate words. E.g., VariableName. Associated with C.\n",
    "`````"
   ]
  },
  {
   "cell_type": "markdown",
   "metadata": {},
   "source": [
    "There are four data types of variables: integers, floats, strings, and boolean. \n",
    "\n",
    "| Data Type          | Description   | Syntax | Python Name | Example |\n",
    "| ----------------  | ------        | ----    | ---- | ---- |\n",
    "| Integers                |  Whole numbers      | a number _without_ decimal points  |  ``int`` | ``year = 2025`` |\n",
    "| Floats                |  Numers with decimal points | a number _with_ decimal points  | ``float`` | ``rt = 324.3462`` |\n",
    "| Strings                 |  Text (words, letters, numbers that should be read like text) | Type numbers or text within quotation marks, ``\"\"`` or ``''`` | ``str`` | ``name = \"Adam\"`` |\n",
    "| Boolean                 |  True or False   | Type True or False |  ``bool`` |``is_eligible = True`` |"
   ]
  },
  {
   "cell_type": "markdown",
   "metadata": {},
   "source": [
    "> **Integers vs Floats:** There is a slight nerdy distinction in that floats can have precision errors due to the computer having to approximate such values because of maths. This is probably not important to what you are doing, but it's cool to know?"
   ]
  },
  {
   "cell_type": "markdown",
   "metadata": {},
   "source": [
    "> **Strings:** If you type numbers within quotation marks, the Python will treat the numbers as text, and refuse to do any mathematical operations on it."
   ]
  },
  {
   "cell_type": "markdown",
   "metadata": {},
   "source": [
    "> **Booleans:** In R, booleans are called a logicals, and is denoted by TRUE or FALSE (all letters uppercase)."
   ]
  },
  {
   "cell_type": "markdown",
   "metadata": {},
   "source": [
    "Often, Python and R will not let you do something because you're trying to do something to one data type that can only be done in another.\n",
    "\n",
    "A common example is trying to do maths with numbers stored as strings rather than integers/floats. The solution to this is transform the data type by using ``int()``, ``float()``, ``str()`` and ``boolean()`` respectively. "
   ]
  },
  {
   "cell_type": "code",
   "execution_count": null,
   "metadata": {},
   "outputs": [
    {
     "ename": "TypeError",
     "evalue": "unsupported operand type(s) for -: 'str' and 'int'",
     "output_type": "error",
     "traceback": [
      "\u001b[31m---------------------------------------------------------------------------\u001b[39m",
      "\u001b[31mTypeError\u001b[39m                                 Traceback (most recent call last)",
      "\u001b[36mCell\u001b[39m\u001b[36m \u001b[39m\u001b[32mIn[229]\u001b[39m\u001b[32m, line 3\u001b[39m\n\u001b[32m      1\u001b[39m birthyear = \u001b[32m2001\u001b[39m\n\u001b[32m      2\u001b[39m currentyear = \u001b[33m\"\u001b[39m\u001b[33m2025\u001b[39m\u001b[33m\"\u001b[39m\n\u001b[32m----> \u001b[39m\u001b[32m3\u001b[39m age = \u001b[43mcurrentyear\u001b[49m\u001b[43m \u001b[49m\u001b[43m-\u001b[49m\u001b[43m \u001b[49m\u001b[43mbirthyear\u001b[49m\n\u001b[32m      5\u001b[39m \u001b[38;5;28mprint\u001b[39m(age)\n",
      "\u001b[31mTypeError\u001b[39m: unsupported operand type(s) for -: 'str' and 'int'"
     ]
    }
   ],
   "source": [
    "# This will not work because the currentyear variable is a string\n",
    "\n",
    "birthyear = 2001\n",
    "currentyear = \"2025\"\n",
    "age = currentyear - birthyear \n",
    "\n",
    "print(age)"
   ]
  },
  {
   "cell_type": "code",
   "execution_count": null,
   "metadata": {},
   "outputs": [
    {
     "name": "stdout",
     "output_type": "stream",
     "text": [
      "24\n"
     ]
    }
   ],
   "source": [
    "# currentyear is now a number that python can do maths on \n",
    "\n",
    "birthyear = 2001\n",
    "currentyear = \"2025\"\n",
    "age = int(currentyear) - birthyear\n",
    "\n",
    "print(age)"
   ]
  },
  {
   "cell_type": "markdown",
   "metadata": {},
   "source": [
    "## List and Tuples\n",
    "\n",
    "Lists and tuples are variables that contain a collection of individual data (\"items\"). They can both contain multiple data types.\n",
    "\n",
    "``` {note}\n",
    "**Lists** are **mutable**, meaning the items are modifiable by code that follows it. These are created by listing items inbetween square brackets, ``[]``, seperated by commas.\n",
    "\n",
    "**Tuples** are **immutable**, meaning the items cannot be changed later on. These are created by listing items inbetween round brackets, ``()``, seperated by commas.\n",
    "```\n",
    "\n",
    "To access an individual item in a list, you call the list's name and the item's **index** (i.e., position) in the list by using the square brackets, ``[]``. \n",
    "\n",
    "``` {important}\n",
    "**Python indexes from 0 (i.e., Python counts from 0), meaning that the \"first\" item in a list is the \"0th\" item in the list according to python.** In R, everything except vectors are indexed from 1 instead. That will be relevant later.\n",
    "```"
   ]
  },
  {
   "cell_type": "code",
   "execution_count": null,
   "metadata": {},
   "outputs": [
    {
     "name": "stdout",
     "output_type": "stream",
     "text": [
      "Adam\n"
     ]
    }
   ],
   "source": [
    "# Lists:\n",
    "animals = [\"Lion\", \"Hyena\", \"Antelope\"]\n",
    "participant_info = [\"Adam\", 19, True]\n",
    "\n",
    "# Tuples:\n",
    "animals = (\"Lion\", \"Hyena\", \"Antelope\")\n",
    "participant_info = (\"Adam\", 19, True)\n",
    "\n",
    "print(participant_info[0])"
   ]
  },
  {
   "cell_type": "markdown",
   "metadata": {},
   "source": [
    "## Dictionaries\n",
    "\n",
    "Dictionaries are like lists but each item has two parts:\n",
    "1. the **key** - i.e., a word in the dictionary\n",
    "2. its **value** - i.e., the definition of or data associated with the word. Any data type is useable.\n",
    "\n",
    "They are established using the curly brackets ``{}``, each key-value pair is seperated by a comma, and VSCode will automatically format it like below. You can access individual values by calling their key in square brackets, ``[]``."
   ]
  },
  {
   "cell_type": "code",
   "execution_count": 232,
   "metadata": {},
   "outputs": [
    {
     "name": "stdout",
     "output_type": "stream",
     "text": [
      "Stag\n"
     ]
    }
   ],
   "source": [
    "house_points = {\n",
    "    \"Gryffindor\": 482,\n",
    "    \"Slytherin\": 472,\n",
    "    \"Ravenclaw\": 426,\n",
    "    \"Hufflepuff\": 312\n",
    "}\n",
    "\n",
    "harry_potter = {\n",
    "    \"House\": \"Gryffindor\",\n",
    "    \"Patronus\": \"Stag\",\n",
    "    \"Age\": 17,\n",
    "    \"Main_Character\": True,\n",
    "}\n",
    "\n",
    "print(harry_potter[\"Patronus\"])"
   ]
  },
  {
   "cell_type": "markdown",
   "metadata": {},
   "source": [
    "> Reminder: for lists, tuples and dictionaries, the most common error is that you've forgotten the commas that seperate the items. "
   ]
  },
  {
   "cell_type": "markdown",
   "metadata": {},
   "source": [
    "## Conditionals\n",
    "\n",
    "Conditionals are statements that allow the computer to make decisions based on given conditions. \n",
    "\n",
    "In python, these are established by typing ``if``, following by a conditional statement, then a colon, ``:``, followed by the **indented** code to be run. For instance,"
   ]
  },
  {
   "cell_type": "code",
   "execution_count": 233,
   "metadata": {},
   "outputs": [
    {
     "name": "stdout",
     "output_type": "stream",
     "text": [
      "Login Successful\n"
     ]
    }
   ],
   "source": [
    "password = \"1234\"\n",
    "\n",
    "if input == password:\n",
    "    print(\"Login Successful\")\n",
    "else:\n",
    "    print(\"Login Unsuccessful, Please Try Again\")"
   ]
  },
  {
   "cell_type": "markdown",
   "metadata": {},
   "source": [
    "The following are conditional statements you can use not in _if_ statements:\n",
    "\n",
    "| Operator          | Description   | Example |\n",
    "| ----------------  | ------        | ----    |\n",
    "| ==                |  Equal to     | x == y  |\n",
    "| !=                |  Not equal to | x != y  |\n",
    "| >                 |  Greater than | x > y   |\n",
    "| <                 |  Less than    | x < y   |\n",
    "| >=                |  Greater than or equal to     | x >= y  |\n",
    "| <=                |  Less than or equal to | x <= y  |\n",
    "| and                 |  True if both conditions are true | x > 5 and y > 10   |\n",
    "| or                 |  True if at least one condition is true    | x > 5 or y > 10  |\n",
    "| not                |  Opposite of the condition     | not (x > 5)  |\n",
    "| is                |  True if both variables refer to the same thing | x is y  |\n",
    "| is not                 |  True if both variables refer to different things | not (x is y)   |\n",
    "| in                 |  True if item or value exists in a variable | 2 in even_numbers |\n",
    "| not in                 |  True if item or value doesn't exist in a variable | 3 not in even_numbers |\n",
    "\n",
    "To make _if_ statements:\n",
    "\n",
    "* **if** - checks a given condition, and if it is True, the following indented code runs.\n",
    "* **elif** _(optional)_ - if the previous _if_ statement is False, runs the following indented code instead.\n",
    "* **else** _(optional)_ - if none of the _if_ or _elif_ statements are True, this code will run.\n",
    "\n",
    "**Example:**"
   ]
  },
  {
   "cell_type": "code",
   "execution_count": 234,
   "metadata": {},
   "outputs": [
    {
     "name": "stdout",
     "output_type": "stream",
     "text": [
      "You are a predator animal\n"
     ]
    }
   ],
   "source": [
    "predators = [\"Lion\", \"Tiger\", \"Cheetah\"]\n",
    "prey = [\"Deer\", \"Zebra\", \"Buffalo\"]\n",
    "\n",
    "participant = \"Lion\"\n",
    "\n",
    "if participant in predators:\n",
    "    print(\"You are a predator animal\")\n",
    "elif participant in prey:\n",
    "    print(\"You are prey\")\n",
    "else:\n",
    "    print(\"You are not an animal in this ecosystem\")"
   ]
  },
  {
   "cell_type": "markdown",
   "metadata": {},
   "source": [
    "## Loops\n",
    "\n",
    "You can automate code by utilising loops. There are two types of loops in Python: \n",
    "\n",
    "**1. _for_ Loops**\n",
    "\n",
    "For loops allow you to repeat a chunk of **indented** code **for** a specific amount of repeats. The syntax reads like \"for A in B, do X\". "
   ]
  },
  {
   "cell_type": "code",
   "execution_count": 235,
   "metadata": {},
   "outputs": [
    {
     "name": "stdout",
     "output_type": "stream",
     "text": [
      "Charli XCX is a musician\n",
      "Chappell Roan is a musician\n",
      "Sabrina Carpenter is a musician\n"
     ]
    }
   ],
   "source": [
    "powerpuff_girls = [\"Charli XCX\", \"Chappell Roan\", \"Sabrina Carpenter\"]\n",
    "\n",
    "for person in powerpuff_girls:\n",
    "    print(person + \" is a musician\")"
   ]
  },
  {
   "cell_type": "markdown",
   "metadata": {},
   "source": [
    "As seen above, the code will go through each ``person`` in the list called ``powerpuff_girls`` and print out their names with an added description.\n",
    "\n",
    "`````{admonition} Loop Conventions\n",
    ":class: tip\n",
    "The convention for this syntax is to use the letter **i** as the index for the loop. This means that in the code above, the conventional way to write the loop is \"for i in Powerpuff_Girls\". However, you can use whatever you want if it makes it easier to conceptualise what the loop is doing.\n",
    "````` "
   ]
  },
  {
   "cell_type": "markdown",
   "metadata": {},
   "source": [
    "**2. _while_ Loops**\n",
    "\n",
    "While loops allow you to repeat a chunk of indented code **while** a condition is true. The syntax reads like \"while A is true, do X\""
   ]
  },
  {
   "cell_type": "code",
   "execution_count": 236,
   "metadata": {},
   "outputs": [],
   "source": [
    "bored = False\n",
    "\n",
    "while bored:\n",
    "    watch_instagram_reels() "
   ]
  },
  {
   "cell_type": "markdown",
   "metadata": {},
   "source": [
    "In the hypothetical code above, while the condition ``bored`` = ``True`` (recall the _boolean_ data type), you will watch Instagram reels, until eventually ``bored`` = ``False`` (in this code, you would watch reels forever, just like real life). There's an error because this is not real code."
   ]
  },
  {
   "cell_type": "markdown",
   "metadata": {},
   "source": [
    "## Functions\n",
    "\n",
    "This is where coding starts to get really powerful. Creating functions is like creating your own commands.\n",
    "\n",
    "Functions are created by using the keyword ``def`` + the function's name + parentheses, ``()``. If you want the function to take certain inputs, you can add parameters inside the parentheses, and you must reference them within the function's chunk of code. If you don't need the function to take inputs, you can just leave it as ``()``. \n",
    "\n",
    "For example, here's a super simple function that calculates someone's age when given their birth year and the current year."
   ]
  },
  {
   "cell_type": "code",
   "execution_count": 237,
   "metadata": {},
   "outputs": [],
   "source": [
    "def age_calculator(date_of_birth, current_year):\n",
    "    return current_year - date_of_birth"
   ]
  },
  {
   "cell_type": "markdown",
   "metadata": {},
   "source": [
    "``return`` is used to store the result of the code directly back into the function, or into a variable."
   ]
  },
  {
   "cell_type": "code",
   "execution_count": null,
   "metadata": {},
   "outputs": [
    {
     "name": "stdout",
     "output_type": "stream",
     "text": [
      "23\n"
     ]
    }
   ],
   "source": [
    "def age_calculator(date_of_birth, current_year):\n",
    "    return current_year - date_of_birth\n",
    "\n",
    "age_calculator(2001, 2024)\n",
    "# to see it do something\n",
    "age = age_calculator(2001, 2024)\n",
    "print(age)"
   ]
  },
  {
   "cell_type": "markdown",
   "metadata": {},
   "source": [
    "## Summary \n",
    "\n",
    "* ``print()`` **Commands** tells Python to do something.\n",
    "* ``#`` **Comments** are text proceeding #s which isn't treated as code and is useful for explaining yourself.\n",
    "* ``=`` **Variables** contain data and are the building blocks of your code.\n",
    "* ``()[]`` **Lists and Tuples** are variables that are a collection of items.\n",
    "* ``{}`` **Dictionaries** are variables that use key-value pairings.\n",
    "* ``if, elif, else`` **Conditionals**  execute code when certain conditions are met.\n",
    "* ``for, while`` **Loops** let you repeat code according to a set condition.\n",
    "* ``def`` **Functions** are like custom commands.\n",
    "\n",
    "### Example: What Exam Score Do You Need For a H1?\n",
    "\n",
    "We've all been there trying to figure out what you need to get on the exam to salvage your mark. See if you can understand what is going on here based on what's been covered."
   ]
  },
  {
   "cell_type": "code",
   "execution_count": null,
   "metadata": {},
   "outputs": [
    {
     "name": "stdout",
     "output_type": "stream",
     "text": [
      "{'Developmental': 77.5, 'Social': 84.0, 'Cognitive': 107.0, 'Personality & Social': 77.5}\n",
      "To achieve a H1 in Developmental Psychology, you need a minimum exam score of: 77.5\n",
      "To achieve a H1 in Social Psychology, you need a minimum exam score of: 84.0\n",
      "You can't get a H1 in Cognitive Psychology. sorry :(\n",
      "To achieve a H1 in Personality & Social Psychology, you need a minimum exam score of: 77.5\n"
     ]
    }
   ],
   "source": [
    "# Establish a dictionary with your subjects (keys) and the assignment marks you've gotten on them (values)\n",
    "assignments = {\n",
    "    \"Developmental\": [80, 77, 88],\n",
    "    \"Social\": [76, 78, 78],\n",
    "    \"Cognitive\": [58, 62, 66],\n",
    "    \"Personality & Social\": [84, 82, 79]\n",
    "}\n",
    "\n",
    "# Establish a function that has an input for the exam's weight on the overall mark\n",
    "def min_exam_score(exam_weight): \n",
    "    # Establish a new dictionary, with the subject as the key and minimum exam score as the value\n",
    "    min_scores = {}  \n",
    "\n",
    "    for subject in assignments: # This code will repeat for each subject \n",
    "        scores = assignments[subject] # The square bracket tells Python to grab the scores from the subject that is currently \"being looked at\" in the loop\n",
    "        assignment_average = sum(scores) / 3 # You can do maths in Python!\n",
    "        required_exam_score = (80 - assignment_average*(1-exam_weight))/exam_weight\n",
    "        min_scores[subject] = required_exam_score # This assigns the minimum exam score to the subject\n",
    "    \n",
    "    return min_scores \n",
    "\n",
    "print(min_scores) # see below!\n",
    "min_scores = min_exam_score(0.4) # This input into the function we made means that the exam is worth 40% of the final mark\n",
    "\n",
    "for subject in min_scores:\n",
    "    score = min_scores[subject]\n",
    "    # determines whether you can actually get a H1 or not\n",
    "    if score <= 100: \n",
    "        print(\"To achieve a H1 in \" + subject + \" Psychology, you need a minimum exam score of: \" + str(score))\n",
    "    else:\n",
    "        print(\"You can't get a H1 in \" + subject + \" Psychology. sorry :(\")"
   ]
  },
  {
   "cell_type": "markdown",
   "metadata": {},
   "source": [
    "`````{admonition} Global vs Local Variables\n",
    ":class: tip\n",
    "Variables that are defined inside a function are called *local variables*, and they only exist within the function they're used in. *global variables* are variables created outside of any function, and are useable anywhere in the code. **It is good practice to use local variables as much as possible, and only make global variables if necessary**\n",
    "`````"
   ]
  }
 ],
 "metadata": {
  "kernelspec": {
   "display_name": ".venv",
   "language": "python",
   "name": "python3"
  },
  "language_info": {
   "codemirror_mode": {
    "name": "ipython",
    "version": 3
   },
   "file_extension": ".py",
   "mimetype": "text/x-python",
   "name": "python",
   "nbconvert_exporter": "python",
   "pygments_lexer": "ipython3",
   "version": "3.13.0"
  }
 },
 "nbformat": 4,
 "nbformat_minor": 2
}
