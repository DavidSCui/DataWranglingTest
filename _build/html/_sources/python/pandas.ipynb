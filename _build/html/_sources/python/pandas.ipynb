{
 "cells": [
  {
   "cell_type": "markdown",
   "metadata": {},
   "source": [
    "# 2b. Data Wrangling 101\n",
    "\n",
    "On to the spaghetti and meatballs of what we're trying to do. "
   ]
  },
  {
   "cell_type": "markdown",
   "metadata": {},
   "source": [
    "## Modules & Libraries\n",
    "\n",
    "One of the things that make Python and R very powerful languages are the abundance of existing resources you can draw upon. \n",
    "\n",
    "`````{admonition} Modules vs Libraries\n",
    ":class: info\n",
    "* **Modules** are python files that act as pre-existing code that you can call upon. (You can make your own and use them later if you're going to be using the same functions over many different files.)\n",
    "\n",
    "* **Libraries** are collections of modules made by professional nerds that let you do really cool things with pretty little effort. \n",
    "``````"
   ]
  },
  {
   "cell_type": "markdown",
   "metadata": {},
   "source": [
    "## Introduction to Pandas \n",
    "\n",
    "**Pandas** is probably the library you'll most use. It introduces two new data types: **DataFrames** are tables with rows and columns, where each **column** is a **Series**. It's like Excel Spreadsheet but in Python.\n",
    "\n",
    "Here's the basic steps of starting with pandas:\n",
    "\n",
    "1. First, install it. In your terminal, copy and paste (or type) the following: ``pip install pandas``\n",
    "\n",
    "> Your terminal is at the bottom of your screen. If it's not there, press the button on the top right of the screen that looks like an eraser with the highlighted bit pointing downwards. \n",
    "\n",
    "2. Import pandas using the ``import`` keyword - this is how you import all libraries or modules.\n",
    "\n",
    "> You will often see pandas imported like this ``import pandas as pd``. The \"as\" means that instead of typing out pandas everytime you want to use it, you can just use the letters \"pd\".\n",
    "\n",
    "3. Create a DataFrame from existing data. We will use scary psychology data in a second, but for now here's a fun dataframe ChatGPT made for us:"
   ]
  },
  {
   "cell_type": "code",
   "execution_count": 9,
   "metadata": {},
   "outputs": [],
   "source": [
    "import pandas as pd\n",
    "\n",
    "data = {\n",
    "    \"Title\": [\n",
    "        \"The Hunger Games\", \"Catching Fire\", \"Mockingjay\",\n",
    "        \"Divergent\", \"Insurgent\", \"Allegiant\",\n",
    "        \"The Maze Runner\", \"The Scorch Trials\", \"The Death Cure\"\n",
    "    ],\n",
    "    \"Release Year\": [\n",
    "        2008, 2009, 2010, \n",
    "        2011, 2012, 2013, \n",
    "        2009, 2010, 2011\n",
    "    ],\n",
    "    \"Author\": [\n",
    "        \"Suzanne Collins\", \"Suzanne Collins\", \"Suzanne Collins\",\n",
    "        \"Veronica Roth\", \"Veronica Roth\", \"Veronica Roth\",\n",
    "        \"James Dashner\", \"James Dashner\", \"James Dashner\"\n",
    "    ],\n",
    "    \"Sales\": [\n",
    "        65000000, 19000000, 18000000,  # Hunger Games series\n",
    "        7000000, 6000000, 5000000,  # Divergent series\n",
    "        10000000, 3000000, 2000000  # Maze Runner series\n",
    "    ],\n",
    "    \"Adapted into Movie\": [\n",
    "        True, True, True,  # Hunger Games\n",
    "        True, True, True,  # Divergent\n",
    "        True, True, True  # Maze Runner\n",
    "    ]\n",
    "}\n",
    "\n",
    "df = pd.DataFrame(data)\n"
   ]
  },
  {
   "cell_type": "markdown",
   "metadata": {},
   "source": [
    "`````{hint} \n",
    "If you want to play around with this data to try some coding and follow along, click copy on the top right of the code panel and paste it into a python file in \n",
    "`````\n",
    "\n",
    "`````{admonition} DataFrame Naming Convention\n",
    ":class: info\n",
    "As usual, you can call your DataFrame variable whatever you want. Though conventionally, people will be lazy and use \"df\" (for DataFrame), if they're only using one main dataframe, such as in RMHI or ADDA.\n",
    "`````\n",
    "\n",
    "As you may be able to tell, this is a table (a DataFrame, if you will) with nine teen dystopia novels from the 2010s. Feel free to copy and paste that chunk of code above into a python file to following along with the examples.\n",
    "\n",
    "___\n",
    "\n",
    "In a usual tutorial you spend the next 30 minutes going through each of the ways you can manipulate this DataFrame. The [next page](./dfcommands.ipynb) has a big table of methods (\"commands\") that you can apply to DataFrames. Alternatively, click the text below to open up the table on this page.\n",
    "\n",
    "```{dropdown} Table: Manipulating Dataframes\n",
    ":class: seealso\n",
    "\n",
    "| **Action**                         | **Syntax**                                                                                                         | **Example**                                                                                                                                                                                                                   |\n",
    "|------------------------------------|--------------------------------------------------------------------------------------------------------------------|-------------------------------------------------------------------------------------------------------------------------------------------------------------------------------------------------------------------------------|\n",
    "| **Selecting Columns**              | Select a column by name: `df['ColumnName']`<br> Select multiple columns: `df[['Column1', 'Column2']]`                | `df['Title']`<br> `df[['Title', 'Sales']]`                                                                                                                                                                                      |\n",
    "| **Selecting Rows by Index**        | Use `iloc[]` for positional indexing: `df.iloc[0]`<br> Slice rows: `df.iloc[1:3]`                                    | `df.iloc[0]`<br> `df.iloc[1:3]`                                                                                                                                                                                                |\n",
    "| **Filtering Rows by Condition**    | Apply condition inside `df[]`: `df[df['Column'] > value]`                                                           | `df[df['Sales'] > 10000000]`                                                                                                                                                                                                   |\n",
    "| **Multiple Conditions**            | Use logical operators ``&`` for AND, straight line for OR: ``df[(condition1) & (condition2)]`` | `df[(df['Sales'] > 10000000) & (df['Author'] == 'Suzanne Collins')]`                                                                                                                                                        |\n",
    "| **Adding a New Column**            | Assign a value to a new column: `df['NewColumn'] = value`                                                            | `df['Discounted Sales'] = df['Sales'] * 0.9`                                                                                                                                                                                 |\n",
    "| **Modifying an Existing Column**   | Modify an existing column: `df['ColumnName'] = new_value`                                                            | `df['Sales'] = df['Sales'] * 1.1`                                                                                                                                                                                             |\n",
    "| **Adding a New Row**               | Concatenate a new DataFrame with existing one: `pd.concat([df, new_row])`                                            | `new_row = pd.DataFrame([{'Title': 'New Book', 'Release Year': 2023, 'Sales': 5000000, 'Adapted into Movie': False}])`<br> `df = pd.concat([df, new_row], ignore_index=True)`                                                      |\n",
    "| **Inserting a Column at a Position** | Use `insert()` to add a column at a specific position: `df.insert(index, 'ColumnName', value)`                       | `df.insert(2, 'Release Decade', ['2000s', '2000s', '2010s', '2010s', '2010s'])`                                                                                                                                               |\n",
    "| **Dropping a Column**              | Drop a column using `drop()`: `df.drop('ColumnName', axis=1)`                                                        | `df = df.drop('Discounted Sales', axis=1)`                                                                                                                                                                                    |\n",
    "| **Dropping Rows by Index**         | Drop rows by index using `drop()`: `df.drop(index=[0, 1])`                                                           | `df = df.drop(index=[0, 1])`                                                                                                                                                                                                  |\n",
    "| **Dropping Rows by Condition**     | Drop rows based on a condition: `df[df['Column'] > value]`                                                           | `df = df[df['Sales'] > 10000000]`                                                                                                                                                                                             |\n",
    "| **Sorting Data**                   | Sort values using `sort_values()`: `df.sort_values('ColumnName', ascending=True)`                                    | `df_sorted = df.sort_values('Sales', ascending=False)`                                                                                                                                                                       |\n",
    "| **Sorting by Multiple Columns**    | Sort by multiple columns: `df.sort_values(['Column1', 'Column2'], ascending=[True, False])`                           | `df_sorted = df.sort_values(['Author', 'Sales'], ascending=[True, False])`                                                                                                                                                   |\n",
    "| **Grouping and Aggregating**       | Group by one or more columns: `df.groupby('Column')['Aggregation']`                                                  | `df.groupby('Author')['Sales'].sum()`                                                                                                                                                                                        |\n",
    "| **Multiple Aggregations**          | Apply multiple aggregation functions: `df.groupby('Column').agg({'Column1': 'sum', 'Column2': 'count'})`             | `df.groupby('Author').agg({'Sales': 'sum', 'Title': 'count'})`                                                                                                                                                             |\n",
    "| **Identifying Missing Data**       | Check for missing values with `isnull()`: `df.isnull()`                                                              | `df.isnull()`                                                                                                                                                                                                                 |\n",
    "| **Count Missing Data**             | Count missing values with `sum()`: `df.isnull().sum()`                                                               | `df.isnull().sum()`                                                                                                                                                                                                          |\n",
    "| **Drop Rows with Missing Data**    | Drop rows containing NaN with `dropna()`: `df.dropna()`                                                              | `df = df.dropna()`                                                                                                                                                                                                           |\n",
    "| **Fill Missing Data**              | Fill missing values with `fillna()`: `df['Column'].fillna(value)`                                                     | `df['Sales'] = df['Sales'].fillna(df['Sales'].mean())`                                                                                                                                                                        |\n",
    "| **Merging DataFrames**             | Merge two DataFrames using `merge()`: `pd.merge(df1, df2, on='Column')`                                               | `merged_df = pd.merge(df1, df2, on='ID')`                                                                                                                                                                                    |\n",
    "| **Renaming Columns**               | Rename columns with `rename()`: `df.rename(columns={'OldName': 'NewName'})`                                           | `df = df.rename(columns={'Sales': 'Total Sales', 'Release Year': 'Year Released'})`                                                                                                                                         |\n",
    "| **Converting to Datetime**         | Convert a column to datetime: `pd.to_datetime(df['Column'])`                                                          | `df['Release Year'] = pd.to_datetime(df['Release Year'], format='%Y')`                                                                                                                                                       |\n",
    "| **Extracting Date Components**     | Extract year, month, day: `df['Date'].dt.year`<br> `df['Date'].dt.month`                                               | `df['Year'] = df['Release Year'].dt.year`<br> `df['Month'] = df['Release Year'].dt.month`                                                                                                                                    |\n",
    "| **Applying Functions**             | Apply a custom function to a column with `apply()`: `df['Column'].apply(lambda x: function(x))`                      | `df['Sales'] = df['Sales'].apply(lambda x: x * 1.05)`                                                                                                                                                                      |\n",
    "\n",
    "```\n",
    "\n"
   ]
  },
  {
   "cell_type": "markdown",
   "metadata": {},
   "source": [
    "<break> </break>\n",
    "\n",
    "You can come back to this later when you need it. For now, lets highlight the stuff you'll most likely use\n",
    "\n",
    "### A. Selecting Rows and Columns\n",
    "\n",
    "For columns, you call the DataFrame's name and type in the name of the column you want to select **within quotation marks** and **within square brackets** adjacent to the DataFrames name. To select multiple columns, you need to use _two_ sets of square brackets, since this show pandas that you are inputing a _list_ of column names\n",
    "\n",
    "For rows, you call the DataFrame's name and type in .iloc (***i***nteger ***loc***ation) and **then within square brackets**, the **index** (remembering that the \"1st\" row is actually the \"0th\" row). To select multiple rows, you can use a colon ``:`` in between two numbers to specify a range of rows to select. \n",
    "\n",
    "**However, in most of Python the end index is _exclusive_, meaning that ``[0:4]`` will _not include_ the 4th row.** This is different to R, in which the end index is _inclusive_ (meaning that in R, the 4th row would be included).\n"
   ]
  },
  {
   "cell_type": "code",
   "execution_count": 10,
   "metadata": {},
   "outputs": [
    {
     "name": "stdout",
     "output_type": "stream",
     "text": [
      "              Title  Release Year           Author     Sales  \\\n",
      "0  The Hunger Games          2008  Suzanne Collins  65000000   \n",
      "1     Catching Fire          2009  Suzanne Collins  19000000   \n",
      "2        Mockingjay          2010  Suzanne Collins  18000000   \n",
      "\n",
      "   Adapted into Movie  \n",
      "0                True  \n",
      "1                True  \n",
      "2                True  \n"
     ]
    }
   ],
   "source": [
    "# Selecting a column\n",
    "book_titles = df['Title'] \n",
    "\n",
    "# Selecting multiple columns\n",
    "book_titles_authors = df[['Title', 'Author']]\n",
    "\n",
    "# Selecting rows\n",
    "hunger_games_trilogy = df.iloc[0:3]\n",
    "\n",
    "print(hunger_games_trilogy)\n"
   ]
  },
  {
   "cell_type": "markdown",
   "metadata": {},
   "source": [
    "`````{admonition} Brackets and Periods Convention\n",
    ":class: tip\n",
    "You may have noticed that we seem to randomely use square brackets ``[]``, round brackets ``()`` and periods ``.`` to do things, but now is a good time to establish how they are generally used in Python. \n",
    " * **Square Brackets ``[]``** are used to select elements of variables with multiple items, like lists, tuples, strings (letters) and DataFrames. This is usually done by indexing ``[0:2]`` or through conditional statements ``[x > 10]``.\n",
    " * **Round Brackets ``()``** are used to call functions or methods - essentially, they activate commands to do things.\n",
    " * **Periods ``.``** are used to access properties or execute actions within variables, such as the \"iloc\" command for DataFrames.\n",
    "`````"
   ]
  },
  {
   "cell_type": "markdown",
   "metadata": {},
   "source": [
    "### B. Filtering & Dropping\n",
    "\n",
    "You can filter rows using conditions using the following syntax in this example below:"
   ]
  },
  {
   "cell_type": "code",
   "execution_count": 11,
   "metadata": {},
   "outputs": [
    {
     "name": "stdout",
     "output_type": "stream",
     "text": [
      "               Title  Release Year           Author     Sales  \\\n",
      "2         Mockingjay          2010  Suzanne Collins  18000000   \n",
      "3          Divergent          2011    Veronica Roth   7000000   \n",
      "4          Insurgent          2012    Veronica Roth   6000000   \n",
      "5          Allegiant          2013    Veronica Roth   5000000   \n",
      "7  The Scorch Trials          2010    James Dashner   3000000   \n",
      "8     The Death Cure          2011    James Dashner   2000000   \n",
      "\n",
      "   Adapted into Movie  \n",
      "2                True  \n",
      "3                True  \n",
      "4                True  \n",
      "5                True  \n",
      "7                True  \n",
      "8                True  \n"
     ]
    }
   ],
   "source": [
    "twenty_tens = df[df[\"Release Year\"] >= 2010]\n",
    "print(twenty_tens)"
   ]
  },
  {
   "cell_type": "markdown",
   "metadata": {},
   "source": [
    "You can also drop (i.e. delete) rows and columns by 'redefining' or 'overwriting' a DataFrame (basically making the variable again with a new condition), or using Pandas' ``drop`` method."
   ]
  },
  {
   "cell_type": "code",
   "execution_count": 12,
   "metadata": {},
   "outputs": [
    {
     "name": "stdout",
     "output_type": "stream",
     "text": [
      "        Title           Author\n",
      "2  Mockingjay  Suzanne Collins\n",
      "3   Divergent    Veronica Roth\n",
      "4   Insurgent    Veronica Roth\n",
      "5   Allegiant    Veronica Roth\n"
     ]
    }
   ],
   "source": [
    "# Notice that just using the same variable name will update the DataFrame with the condition given\n",
    "# In this case, it will make a DataFrame again with only books above 5 million in sales\n",
    "twenty_tens = twenty_tens[twenty_tens[\"Sales\"] >= 5000000]\n",
    "\n",
    "# using the drop method will essentially delete the column specified\n",
    "twenty_tens = twenty_tens.drop(columns=\"Adapted into Movie\", axis=1)\n",
    "\n",
    "# you can delete multiple columns by specifying a Series/List using square brackets\n",
    "twenty_tens = twenty_tens.drop(columns = ['Release Year', 'Sales'])\n",
    "print(twenty_tens)"
   ]
  },
  {
   "cell_type": "markdown",
   "metadata": {},
   "source": [
    "#### isin()\n",
    "\n",
    "A really handy command to know is pandas' ``isin()`` method. This can be used to select/filter rows by checking it is within a **list** of values, which is useful when you need to sort data by multiple specific conditions."
   ]
  },
  {
   "cell_type": "code",
   "execution_count": 13,
   "metadata": {},
   "outputs": [
    {
     "name": "stdout",
     "output_type": "stream",
     "text": [
      "              Title  Release Year           Author     Sales  \\\n",
      "0  The Hunger Games          2008  Suzanne Collins  65000000   \n",
      "1     Catching Fire          2009  Suzanne Collins  19000000   \n",
      "6   The Maze Runner          2009    James Dashner  10000000   \n",
      "\n",
      "   Adapted into Movie  \n",
      "0                True  \n",
      "1                True  \n",
      "6                True  \n"
     ]
    }
   ],
   "source": [
    "global_financial_crisis_years = [2007, 2008, 2009]\n",
    "\n",
    "df_2 = df[df['Release Year'].isin(global_financial_crisis_years)]\n",
    "print(df_2)"
   ]
  },
  {
   "cell_type": "markdown",
   "metadata": {},
   "source": [
    "### C. Creating New Rows/Columns\n",
    "\n",
    "You may need to make new rows and columns as part of what you're doing - maybe to combine columns from other tables or add new entries.\n",
    "\n",
    "#### New Columns\n",
    "\n",
    "To add new columns, you pretty much tell the computer _\"this is now a column in this dataframe, which takes the following values\"_. The syntax for this is seen below - values are given in the order that the items on the table are in.\n",
    "\n",
    "``` {caution}\n",
    "The new column you have introduced **must** have the same amount of rows as the existing table. For instance, since there are 9 books here, my new column must have 9 values.\n",
    "```\n",
    "\n",
    "``` {note}\n",
    "In practice, you may be extracting a column from another table. For this, you would be directly setting a column in your table as a column from another table. For example, ``df[\"Amazon Rating\"] = df2[\"Ratings\"]``.\n",
    "```"
   ]
  },
  {
   "cell_type": "code",
   "execution_count": 14,
   "metadata": {},
   "outputs": [
    {
     "name": "stdout",
     "output_type": "stream",
     "text": [
      "               Title  Release Year           Author     Sales  \\\n",
      "0   The Hunger Games          2008  Suzanne Collins  65000000   \n",
      "1      Catching Fire          2009  Suzanne Collins  19000000   \n",
      "2         Mockingjay          2010  Suzanne Collins  18000000   \n",
      "3          Divergent          2011    Veronica Roth   7000000   \n",
      "4          Insurgent          2012    Veronica Roth   6000000   \n",
      "5          Allegiant          2013    Veronica Roth   5000000   \n",
      "6    The Maze Runner          2009    James Dashner  10000000   \n",
      "7  The Scorch Trials          2010    James Dashner   3000000   \n",
      "8     The Death Cure          2011    James Dashner   2000000   \n",
      "\n",
      "   Adapted into Movie  Amazon Rating  \n",
      "0                True            4.7  \n",
      "1                True            4.8  \n",
      "2                True            4.5  \n",
      "3                True            4.6  \n",
      "4                True            4.5  \n",
      "5                True            4.4  \n",
      "6                True            4.4  \n",
      "7                True            4.3  \n",
      "8                True            4.2  \n"
     ]
    }
   ],
   "source": [
    "amazon_ratings = [4.7, 4.8, 4.5, 4.6, 4.5, 4.4, 4.4, 4.3, 4.2]\n",
    "\n",
    "df[\"Amazon Rating\"] = amazon_ratings\n",
    "\n",
    "print(df)"
   ]
  },
  {
   "cell_type": "markdown",
   "metadata": {},
   "source": [
    "#### New Rows\n",
    "\n",
    "There are two ways of adding a new rows to a table. \n",
    "\n",
    "* Method 1 involves is similar to how we added columns in the example above - you are basically telling the computer that _\"this is a row now. here's what the values are\"_, where the values are given in same order that the columns show up in the table. This is good for quickly adding new row.\n",
    "\n",
    "``` {note}\n",
    "The bit of code, ``[len(df)]`` is a command that will spit out the **len**gth of the dataframe (actually, the series, so pretty much how many rows) as a numerical value. Because Python is end-index exclusive, the number that pops out is actually +1 above the amount of rows, so by making a new row at this number, you are adding a new row.\n",
    "```\n",
    "\n",
    "* Method 2 is **recommended** because it is more scalable. Here, the new row is its own dictionary variable with the appropriate keys (columns) and values. Then, using the ``pd.concat`` command (method), the computer slaps the new row into the table with the syntax seen below."
   ]
  },
  {
   "cell_type": "code",
   "execution_count": null,
   "metadata": {},
   "outputs": [
    {
     "name": "stdout",
     "output_type": "stream",
     "text": [
      "                                 Title  Release Year           Author  \\\n",
      "0                     The Hunger Games          2008  Suzanne Collins   \n",
      "1                        Catching Fire          2009  Suzanne Collins   \n",
      "2                           Mockingjay          2010  Suzanne Collins   \n",
      "3                            Divergent          2011    Veronica Roth   \n",
      "4                            Insurgent          2012    Veronica Roth   \n",
      "5                            Allegiant          2013    Veronica Roth   \n",
      "6                      The Maze Runner          2009    James Dashner   \n",
      "7                    The Scorch Trials          2010    James Dashner   \n",
      "8                       The Death Cure          2011    James Dashner   \n",
      "9               Sunrise on the Reaping          2025  Suzanne Collins   \n",
      "10  The Ballad of Songbirds and Snakes          2020  Suzanne Collins   \n",
      "\n",
      "       Sales  Adapted into Movie  Amazon Rating  \n",
      "0   65000000                True            4.7  \n",
      "1   19000000                True            4.8  \n",
      "2   18000000                True            4.5  \n",
      "3    7000000                True            4.6  \n",
      "4    6000000                True            4.5  \n",
      "5    5000000                True            4.4  \n",
      "6   10000000                True            4.4  \n",
      "7    3000000                True            4.3  \n",
      "8    2000000                True            4.2  \n",
      "9       None               False            NaN  \n",
      "10   3000000                True            4.6  \n"
     ]
    },
    {
     "name": "stderr",
     "output_type": "stream",
     "text": [
      "/var/folders/y3/76c9zs013lvd86l2m8d2qq380000gn/T/ipykernel_37614/3314418627.py:1: FutureWarning: The behavior of DataFrame concatenation with empty or all-NA entries is deprecated. In a future version, this will no longer exclude empty or all-NA columns when determining the result dtypes. To retain the old behavior, exclude the relevant entries before the concat operation.\n",
      "  df.loc[len(df)] = [\"Sunrise on the Reaping\", 2025, \"Suzanne Collins\", None, False, None]\n"
     ]
    }
   ],
   "source": [
    "# Method 1\n",
    "df.loc[len(df)] = [\"Sunrise on the Reaping\", 2025, \"Suzanne Collins\", None, False, None]\n",
    "\n",
    "# Method 2\n",
    "new_book = pd.DataFrame({\n",
    "    \"Title\": [\"The Ballad of Songbirds and Snakes\"],\n",
    "    \"Release Year\": [2020],\n",
    "    \"Author\": [\"Suzanne Collins\"],\n",
    "    \"Sales\": [3000000],\n",
    "    \"Adapted into Movie\": [True],\n",
    "    \"Amazon Rating\": [4.6]\n",
    "})\n",
    "\n",
    "df = pd.concat([df, new_book], ignore_index=True)\n",
    "\n",
    "print(df)"
   ]
  },
  {
   "cell_type": "markdown",
   "metadata": {},
   "source": [
    "### D. Missing Data\n",
    "\n",
    "Dealing with missing data is relatively simply in pandas; there are a few things you can do listed below (adapted from the full table on the next page):\n",
    "\n",
    "\n",
    "| **Action**                         | **Syntax**                                                                                                         | **Example**                                                                                                                                                                                                                   |\n",
    "|------------------------------------|--------------------------------------------------------------------------------------------------------------------|-------------------------------------------------------------------------------------------------------------------------------------------------------------------------------------------------------------------------------|\n",
    "| **Identifying Missing Data**       | Check for missing values with `isnull()`: `df.isnull()`                                                              | `df.isnull()`                                                                                                                                                                                                                 |\n",
    "| **Count Missing Data**             | Count missing values with `sum()`: `df.isnull().sum()`                                                               | `df.isnull().sum()`                                                                                                                                                                                                          |\n",
    "| **Drop Rows with Missing Data**    | Drop rows containing NaN with `dropna()`: `df.dropna()`                                                              | `df = df.dropna()`                                                                                                                                                                                                           |\n",
    "| **Fill Missing Data**              | Fill missing values with `fillna()`: `df['Column'].fillna(value)`                                                     | `df['Sales'] = df['Sales'].fillna(df['Sales'].mean())`                                                                                                                                                                        |\n",
    "\n",
    "\n",
    "For example:"
   ]
  },
  {
   "cell_type": "code",
   "execution_count": 16,
   "metadata": {},
   "outputs": [
    {
     "name": "stdout",
     "output_type": "stream",
     "text": [
      "                                 Title  Release Year           Author  \\\n",
      "0                     The Hunger Games          2008  Suzanne Collins   \n",
      "1                        Catching Fire          2009  Suzanne Collins   \n",
      "2                           Mockingjay          2010  Suzanne Collins   \n",
      "3                            Divergent          2011    Veronica Roth   \n",
      "4                            Insurgent          2012    Veronica Roth   \n",
      "5                            Allegiant          2013    Veronica Roth   \n",
      "6                      The Maze Runner          2009    James Dashner   \n",
      "7                    The Scorch Trials          2010    James Dashner   \n",
      "8                       The Death Cure          2011    James Dashner   \n",
      "10  The Ballad of Songbirds and Snakes          2020  Suzanne Collins   \n",
      "\n",
      "       Sales  Adapted into Movie  Amazon Rating  \n",
      "0   65000000                True            4.7  \n",
      "1   19000000                True            4.8  \n",
      "2   18000000                True            4.5  \n",
      "3    7000000                True            4.6  \n",
      "4    6000000                True            4.5  \n",
      "5    5000000                True            4.4  \n",
      "6   10000000                True            4.4  \n",
      "7    3000000                True            4.3  \n",
      "8    2000000                True            4.2  \n",
      "10   3000000                True            4.6  \n"
     ]
    }
   ],
   "source": [
    "df.isnull()\n",
    "\n",
    "df = df.dropna()\n",
    "\n",
    "print(df)"
   ]
  }
 ],
 "metadata": {
  "kernelspec": {
   "display_name": ".venv",
   "language": "python",
   "name": "python3"
  },
  "language_info": {
   "codemirror_mode": {
    "name": "ipython",
    "version": 3
   },
   "file_extension": ".py",
   "mimetype": "text/x-python",
   "name": "python",
   "nbconvert_exporter": "python",
   "pygments_lexer": "ipython3",
   "version": "3.13.0"
  }
 },
 "nbformat": 4,
 "nbformat_minor": 2
}
