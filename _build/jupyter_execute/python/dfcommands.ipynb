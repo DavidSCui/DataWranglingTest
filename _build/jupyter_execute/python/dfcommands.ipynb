{
 "cells": [
  {
   "cell_type": "markdown",
   "metadata": {},
   "source": [
    "# Extra: Pandas DataFrame Methods"
   ]
  },
  {
   "cell_type": "markdown",
   "metadata": {},
   "source": [
    "\n",
    "\n",
    "| **Action**                         | **Syntax**                                                                                                         | **Example**                                                                                                                                                                                                                   |\n",
    "|------------------------------------|--------------------------------------------------------------------------------------------------------------------|-------------------------------------------------------------------------------------------------------------------------------------------------------------------------------------------------------------------------------|\n",
    "| **Selecting Columns**              | Select a column by name: `df['ColumnName']`<br> Select multiple columns: `df[['Column1', 'Column2']]`                | `df['Title']`<br> `df[['Title', 'Sales']]`                                                                                                                                                                                      |\n",
    "| **Selecting Rows by Index**        | Use `iloc[]` for positional indexing: `df.iloc[0]`<br> Slice rows: `df.iloc[1:3]`                                    | `df.iloc[0]`<br> `df.iloc[1:3]`                                                                                                                                                                                                |\n",
    "| **Filtering Rows by Condition**    | Apply condition inside `df[]`: `df[df['Column'] > value]`                                                           | `df[df['Sales'] > 10000000]`                                                                                                                                                                                                   |\n",
    "| **Multiple Conditions**            | Use logical operators ``&`` for AND, straight line for OR: ``df[(condition1) & (condition2)]`` | `df[(df['Sales'] > 10000000) & (df['Author'] == 'Suzanne Collins')]`                                                                                                                                                        |\n",
    "| **Adding a New Column**            | Assign a value to a new column: `df['NewColumn'] = value`                                                            | `df['Discounted Sales'] = df['Sales'] * 0.9`                                                                                                                                                                                 |\n",
    "| **Modifying an Existing Column**   | Modify an existing column: `df['ColumnName'] = new_value`                                                            | `df['Sales'] = df['Sales'] * 1.1`                                                                                                                                                                                             |\n",
    "| **Adding a New Row**               | Concatenate a new DataFrame with existing one: `pd.concat([df, new_row])`                                            | `new_row = pd.DataFrame([{'Title': 'New Book', 'Release Year': 2023, 'Sales': 5000000, 'Adapted into Movie': False}])`<br> `df = pd.concat([df, new_row], ignore_index=True)`                                                      |\n",
    "| **Inserting a Column at a Position** | Use `insert()` to add a column at a specific position: `df.insert(index, 'ColumnName', value)`                       | `df.insert(2, 'Release Decade', ['2000s', '2000s', '2010s', '2010s', '2010s'])`                                                                                                                                               |\n",
    "| **Dropping a Column**              | Drop a column using `drop()`: `df.drop('ColumnName', axis=1)`                                                        | `df = df.drop('Discounted Sales', axis=1)`                                                                                                                                                                                    |\n",
    "| **Dropping Rows by Index**         | Drop rows by index using `drop()`: `df.drop(index=[0, 1])`                                                           | `df = df.drop(index=[0, 1])`                                                                                                                                                                                                  |\n",
    "| **Dropping Rows by Condition**     | Drop rows based on a condition: `df[df['Column'] > value]`                                                           | `df = df[df['Sales'] > 10000000]`                                                                                                                                                                                             |\n",
    "| **Sorting Data**                   | Sort values using `sort_values()`: `df.sort_values('ColumnName', ascending=True)`                                    | `df_sorted = df.sort_values('Sales', ascending=False)`                                                                                                                                                                       |\n",
    "| **Sorting by Multiple Columns**    | Sort by multiple columns: `df.sort_values(['Column1', 'Column2'], ascending=[True, False])`                           | `df_sorted = df.sort_values(['Author', 'Sales'], ascending=[True, False])`                                                                                                                                                   |\n",
    "| **Grouping and Aggregating**       | Group by one or more columns: `df.groupby('Column')['Aggregation']`                                                  | `df.groupby('Author')['Sales'].sum()`                                                                                                                                                                                        |\n",
    "| **Multiple Aggregations**          | Apply multiple aggregation functions: `df.groupby('Column').agg({'Column1': 'sum', 'Column2': 'count'})`             | `df.groupby('Author').agg({'Sales': 'sum', 'Title': 'count'})`                                                                                                                                                             |\n",
    "| **Identifying Missing Data**       | Check for missing values with `isnull()`: `df.isnull()`                                                              | `df.isnull()`                                                                                                                                                                                                                 |\n",
    "| **Count Missing Data**             | Count missing values with `sum()`: `df.isnull().sum()`                                                               | `df.isnull().sum()`                                                                                                                                                                                                          |\n",
    "| **Drop Rows with Missing Data**    | Drop rows containing NaN with `dropna()`: `df.dropna()`                                                              | `df = df.dropna()`                                                                                                                                                                                                           |\n",
    "| **Fill Missing Data**              | Fill missing values with `fillna()`: `df['Column'].fillna(value)`                                                     | `df['Sales'] = df['Sales'].fillna(df['Sales'].mean())`                                                                                                                                                                        |\n",
    "| **Merging DataFrames**             | Merge two DataFrames using `merge()`: `pd.merge(df1, df2, on='Column')`                                               | `merged_df = pd.merge(df1, df2, on='ID')`                                                                                                                                                                                    |\n",
    "| **Renaming Columns**               | Rename columns with `rename()`: `df.rename(columns={'OldName': 'NewName'})`                                           | `df = df.rename(columns={'Sales': 'Total Sales', 'Release Year': 'Year Released'})`                                                                                                                                         |\n",
    "| **Converting to Datetime**         | Convert a column to datetime: `pd.to_datetime(df['Column'])`                                                          | `df['Release Year'] = pd.to_datetime(df['Release Year'], format='%Y')`                                                                                                                                                       |\n",
    "| **Extracting Date Components**     | Extract year, month, day: `df['Date'].dt.year`<br> `df['Date'].dt.month`                                               | `df['Year'] = df['Release Year'].dt.year`<br> `df['Month'] = df['Release Year'].dt.month`                                                                                                                                    |\n",
    "| **Applying Functions**             | Apply a custom function to a column with `apply()`: `df['Column'].apply(lambda x: function(x))`                      | `df['Sales'] = df['Sales'].apply(lambda x: x * 1.05)`                                                                                                                                                                      |\n",
    "</details>\n",
    "\n"
   ]
  }
 ],
 "metadata": {
  "kernelspec": {
   "display_name": ".venv",
   "language": "python",
   "name": "python3"
  },
  "language_info": {
   "codemirror_mode": {
    "name": "ipython",
    "version": 3
   },
   "file_extension": ".py",
   "mimetype": "text/x-python",
   "name": "python",
   "nbconvert_exporter": "python",
   "pygments_lexer": "ipython3",
   "version": "3.13.0"
  }
 },
 "nbformat": 4,
 "nbformat_minor": 2
}