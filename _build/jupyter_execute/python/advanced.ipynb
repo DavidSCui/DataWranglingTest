{
 "cells": [
  {
   "cell_type": "markdown",
   "metadata": {},
   "source": [
    "## Advanced File Navigation\n",
    "\n",
    "For advanced file sorting and finding, you can employ the ``os`` and ``glob`` modules.\n",
    "\n",
    "### os module\n",
    "\n",
    "#### A. OS Agnostic File Paths\n",
    "\n",
    "To address the problem of Mac/Linux and Windows using different filepath conventions, we can use ``os.path.join``.\n",
    "\n",
    "1. Importing the module: \n",
    "\n",
    "    ``import os``\n",
    "\n",
    "2. Specifying the folder/directory that the file is in within a variable: \n",
    "\n",
    "    ``filepath = \"/user/code\"``\n",
    "\n",
    "3. Specifying the filename within a variable: \n",
    "\n",
    "    ``filename = \"data.csv``\n",
    "\n",
    "4. Create the new filepath by combining the two variables:\n",
    "\n",
    "    ``full_path = os.path.join(base_dir, filename)``\n",
    "\n"
   ]
  }
 ],
 "metadata": {
  "language_info": {
   "codemirror_mode": {
    "name": "ipython",
    "version": 3
   },
   "file_extension": ".py",
   "mimetype": "text/x-python",
   "name": "python",
   "nbconvert_exporter": "python",
   "pygments_lexer": "ipython3",
   "version": "3.13.0"
  }
 },
 "nbformat": 4,
 "nbformat_minor": 2
}