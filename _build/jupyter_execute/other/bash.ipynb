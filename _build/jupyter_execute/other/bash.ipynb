{
 "cells": [
  {
   "cell_type": "markdown",
   "metadata": {},
   "source": [
    "# 3a. Basic Shell (Bash/Zsh/Cmd)\n",
    "\n",
    "**Shells** are tools used to communicate and interact with your computer through text. You may be familiar with **Command Prompt** in Windows or the **Terminal** in Mac, which are examples of shells - it is like a basic interface for communicating and giving instructions to your computer.\n",
    "\n",
    "``` {note}\n",
    "* **Bash** is the default shell for Mac and Linux.\n",
    "\n",
    "* **Zsh** is a more modern version of Bash, and is the default shell for newer Mac and Linux systems.\n",
    "\n",
    "* **Command Prompt** is the default shell for Windows.\n",
    "\n",
    "* **PowerShell** is an advanced shell, and is typically associated with Windows.\n",
    "```\n",
    "\n",
    "Knowing basic shell is useful for using more technical systems, such as navigating in a terminal (such as the terminal in VSCode or RStudio) or using high-performance computing networks."
   ]
  },
  {
   "cell_type": "markdown",
   "metadata": {},
   "source": [
    "You can start using a shell by opening the terminal in Mac or the command prompt in Windows.\n",
    "\n",
    "> * For **Mac**, open your launchpad and type in \"terminal\".\n",
    "> * For **Windows**, press the windows key and type in \"cmd\"."
   ]
  },
  {
   "cell_type": "markdown",
   "metadata": {},
   "source": [
    "**The two most common commands you'll use are:**\n",
    "\n",
    "1. **Bash/Zsh: ``ls`` | Windows: ``dir``**\n",
    "\n",
    "    This **l**ist**s** all the files and folders (**dir**ectories) in your current working directory (i.e., your \"current view\")\n",
    "\n",
    "2. **Bash/Zsh/Windows: ``cd`` + Path to Directory or Directory Name**\n",
    "\n",
    "    This **c**hanges your **d**irectory (folder) to your selection.\n",
    "\n",
    "> For example, try typing out ``ls`` (Mac) or ``dir`` (Windows) in your terminal/command prompt. When the list appears, type ``cd`` + one of the directory names that pop up, such as ``cd Documents``. You will notice that you have moved to the Documents folder/directory.\n",
    "\n",
    "To move back up one folder/directory, simply type in ``cd ../``. \n",
    "\n",
    "``` {note}\n",
    "``./`` represents your current directory, and ``../`` represents the folder/directory above. You can go up multiple levels by chaining the latter, e.g., ``cd ../../../``.\n",
    "```\n",
    " "
   ]
  },
  {
   "cell_type": "markdown",
   "metadata": {},
   "source": [
    "Below is an extensive table showing all your possible commands in Bash/Zsh and Command Prompt.\n",
    "\n",
    "| **Task**                          | **Bash/Zsh**                    | **Command Prompt (CMD)**        |\n",
    "|------------------------------------|---------------------------------|---------------------------------|\n",
    "| **List files and directories**     | `ls`                            | `dir`                           |\n",
    "| **Change directory**               | `cd /path/to/directory`         | `cd /path/to/directory`         |\n",
    "| **Print working directory**        | `pwd`                           | `cd`                            |\n",
    "| **Create a new directory**         | `mkdir new_directory`           | `mkdir new_directory`           |\n",
    "| **Remove a file**                  | `rm filename`                   | `del filename`                  |\n",
    "| **Remove a directory**             | `rm -r directory`               | `rmdir /s directory`            |\n",
    "| **Move/Rename a file**             | `mv oldname newname`            | `move oldname newname`          |\n",
    "| **Copy a file**                    | `cp file destination`           | `copy file destination`         |\n",
    "| **View the contents of a file**    | `cat filename`                  | `type filename`                 |\n",
    "| **Search for a pattern in a file** | `grep \"pattern\" filename`       | `findstr \"pattern\" filename`    |\n",
    "| **Display the first few lines of a file** | `head filename`             | `more filename`                 |\n",
    "| **Display the last few lines of a file** | `tail filename`             | `more filename`                 |\n",
    "| **View command history**           | `history`                       | `doskey /history`               |\n",
    "| **Clear the screen**               | `clear`                         | `cls`                           |\n",
    "| **Check disk usage**               | `df -h`                         | `wmic logicaldisk get size,freespace,caption` |\n",
    "| **Check memory usage**             | `free -h`                       | `systeminfo`                    |\n",
    "| **Check running processes**        | `ps aux`                        | `tasklist`                      |\n",
    "| **Kill a process**                 | `kill PID`                      | `taskkill /PID PID`             |\n",
    "| **Show system information**        | `uname -a`                      | `systeminfo`                    |\n",
    "| **Show environment variables**     | `printenv` or `echo $VAR`       | `echo %VAR%`                    |\n",
    "| **Get the current user**           | `whoami`                        | `whoami`                        |"
   ]
  }
 ],
 "metadata": {
  "kernelspec": {
   "display_name": "Bash",
   "language": "bash",
   "name": "bash"
  },
  "language_info": {
   "codemirror_mode": "shell",
   "file_extension": ".sh",
   "mimetype": "text/x-sh",
   "name": "bash"
  }
 },
 "nbformat": 4,
 "nbformat_minor": 2
}