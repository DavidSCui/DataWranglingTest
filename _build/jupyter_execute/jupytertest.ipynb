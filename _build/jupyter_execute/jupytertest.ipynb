{
 "cells": [
  {
   "cell_type": "markdown",
   "metadata": {},
   "source": [
    "\n",
    "# 2. Introduction to Python"
   ]
  },
  {
   "cell_type": "code",
   "execution_count": 1,
   "metadata": {},
   "outputs": [
    {
     "name": "stdout",
     "output_type": "stream",
     "text": [
      "    RunNumL  SetNumL  BattleNumL        FirstStimL SecondStimL  \\\n",
      "0       NaN      NaN         NaN               NaN         NaN   \n",
      "1       1.0      1.0        17.0  img/Agent_LW.png  img/HS.png   \n",
      "2       1.0      1.0         6.0  img/Agent_LM.png  img/HS.png   \n",
      "3       1.0      1.0        12.0  img/Agent_LS.png  img/AW.png   \n",
      "4       1.0      1.0        23.0  img/Agent_LW.png  img/HM.png   \n",
      "..      ...      ...         ...               ...         ...   \n",
      "70      NaN      NaN         NaN               NaN         NaN   \n",
      "71      NaN      NaN         NaN               NaN         NaN   \n",
      "72      NaN      NaN         NaN               NaN         NaN   \n",
      "73      NaN      NaN         NaN               NaN         NaN   \n",
      "74      NaN      NaN         NaN               NaN         NaN   \n",
      "\n",
      "           ConfidenceL      OutcomeL  OutcomeNumL                   ToneL  \\\n",
      "0                  NaN           NaN          NaN                     NaN   \n",
      "1   img/confidence.png  img/lost.png          0.0  img/WhiteNoiseLong.wav   \n",
      "2   img/confidence.png   img/won.png          1.0          img/Silent.wav   \n",
      "3   img/confidence.png   img/won.png          1.0          img/Silent.wav   \n",
      "4   img/confidence.png   img/won.png          1.0          img/Silent.wav   \n",
      "..                 ...           ...          ...                     ...   \n",
      "70                 NaN           NaN          NaN                     NaN   \n",
      "71                 NaN           NaN          NaN                     NaN   \n",
      "72                 NaN           NaN          NaN                     NaN   \n",
      "73                 NaN           NaN          NaN                     NaN   \n",
      "74                 NaN           NaN          NaN                     NaN   \n",
      "\n",
      "    RunNumA  ...  completion_prompt_resp.started  completion_prompt_resp.keys  \\\n",
      "0       NaN  ...                             NaN                          NaN   \n",
      "1       NaN  ...                             NaN                          NaN   \n",
      "2       NaN  ...                             NaN                          NaN   \n",
      "3       NaN  ...                             NaN                          NaN   \n",
      "4       NaN  ...                             NaN                          NaN   \n",
      "..      ...  ...                             ...                          ...   \n",
      "70      NaN  ...                             NaN                          NaN   \n",
      "71      NaN  ...                             NaN                          NaN   \n",
      "72      NaN  ...                             NaN                          NaN   \n",
      "73      NaN  ...                             NaN                          NaN   \n",
      "74      NaN  ...                      792.834019                            a   \n",
      "\n",
      "   completion_prompt_resp.rt participant run                     date  \\\n",
      "0                        NaN         Amy   1  2024-01-29_10h41.12.362   \n",
      "1                        NaN         Amy   1  2024-01-29_10h41.12.362   \n",
      "2                        NaN         Amy   1  2024-01-29_10h41.12.362   \n",
      "3                        NaN         Amy   1  2024-01-29_10h41.12.362   \n",
      "4                        NaN         Amy   1  2024-01-29_10h41.12.362   \n",
      "..                       ...         ...  ..                      ...   \n",
      "70                       NaN         Amy   1  2024-01-29_10h41.12.362   \n",
      "71                       NaN         Amy   1  2024-01-29_10h41.12.362   \n",
      "72                       NaN         Amy   1  2024-01-29_10h41.12.362   \n",
      "73                       NaN         Amy   1  2024-01-29_10h41.12.362   \n",
      "74                  2.632965         Amy   1  2024-01-29_10h41.12.362   \n",
      "\n",
      "          expName psychopyVersion  frameRate  Unnamed: 134  \n",
      "0   Gen_Run1_Tone        2023.1.0  59.931379           NaN  \n",
      "1   Gen_Run1_Tone        2023.1.0  59.931379           NaN  \n",
      "2   Gen_Run1_Tone        2023.1.0  59.931379           NaN  \n",
      "3   Gen_Run1_Tone        2023.1.0  59.931379           NaN  \n",
      "4   Gen_Run1_Tone        2023.1.0  59.931379           NaN  \n",
      "..            ...             ...        ...           ...  \n",
      "70  Gen_Run1_Tone        2023.1.0  59.931379           NaN  \n",
      "71  Gen_Run1_Tone        2023.1.0  59.931379           NaN  \n",
      "72  Gen_Run1_Tone        2023.1.0  59.931379           NaN  \n",
      "73  Gen_Run1_Tone        2023.1.0  59.931379           NaN  \n",
      "74  Gen_Run1_Tone        2023.1.0  59.931379           NaN  \n",
      "\n",
      "[75 rows x 135 columns]\n"
     ]
    }
   ],
   "source": [
    "import pandas as pd\n",
    "\n",
    "\n",
    "df = pd.read_csv(\"/Users/davidcui/Documents/ANDLabLocal/SafetyAdolescentData/Data_Behavioral/Amy/Amy_Gen_Run1_Tone_2024-01-29_10h41.12.362_1.csv\", header=0)\n",
    "print(df)"
   ]
  }
 ],
 "metadata": {
  "kernelspec": {
   "display_name": ".venv",
   "language": "python",
   "name": "python3"
  },
  "language_info": {
   "codemirror_mode": {
    "name": "ipython",
    "version": 3
   },
   "file_extension": ".py",
   "mimetype": "text/x-python",
   "name": "python",
   "nbconvert_exporter": "python",
   "pygments_lexer": "ipython3",
   "version": "3.13.0"
  }
 },
 "nbformat": 4,
 "nbformat_minor": 2
}