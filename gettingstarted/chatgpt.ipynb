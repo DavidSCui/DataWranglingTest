{
 "cells": [
  {
   "cell_type": "markdown",
   "metadata": {},
   "source": [
    "# 1c. Learning Resources\n",
    "\n",
    "This guide has been prepared specifically for a student or researcher new to coding and as such is designed to speed through a lot of detail to equip the viewer with the fundamentals to start contributing as fast as possible, in an environment supported by more experienced programmers and useful learning resources like google or AI.\n",
    "\n",
    "* **https://quickref.me/** provides tons of cheatsheets for different coding languages that are useful not only for reminding yourself of basic operations, but being able to quickly adapt to a new language based on your current understanding of coding.\n",
    "\n",
    "* **https://peps.python.org/pep-0008/** is an extensive document outlining best practice and ethical coding habits.\n",
    "\n",
    "* **Google** exists.\n",
    "\n",
    "* **Stack Overflow** is the most popular programming-related website where you will find questions and answers related to pretty much any problem you might face. \n",
    "\n",
    "* **Youtube** contains an unfathomable amount of tutorials from which pretty much anyone born after 2000 learnt most of their coding skills from.\n",
    "\n",
    "``` {admonition} A Note on AI\n",
    "It is tempting to use **ChatGPT** and other AI models like Claude to write all your code, and while sometimes you just need to get stuff done quickly, you don't learn anything. However, AI can really help you learn coding by deconstructing existing code and reminding you how concepts work.\n",
    "\n",
    "That being said, AI models like ChatGPT are effective for finding more elegant or novel solutions to problems you might face. Crucially though, if you don't understand how the code they generate works, you may end up contributing code that is too efficient to be customised for the variety of data types you will face in psychological research, or you will not be able to fix/adapt the code should it not fit your niche.\n",
    "\n",
    "Knowing the basics of coding, combined with Google, Stack Overflow and AI, is all you need in today's world to code. Coding is problem-solving, and while you will eventually get better at writing more efficient and neat code, the best code is the code that works. \n",
    "```\n"
   ]
  }
 ],
 "metadata": {
  "language_info": {
   "name": "python"
  }
 },
 "nbformat": 4,
 "nbformat_minor": 2
}
